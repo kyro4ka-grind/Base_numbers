{
 "cells": [
  {
   "cell_type": "code",
   "execution_count": 1,
   "metadata": {},
   "outputs": [],
   "source": [
    "import pandas as pd\n",
    "import numpy as np\n",
    "import torch\n",
    "import torch.nn as nn\n",
    "import torch.optim as optim\n",
    "from torch.utils.data import Dataset, DataLoader, random_split\n",
    "import torch.nn.functional as F\n",
    "import matplotlib.pyplot as plt\n",
    "from PIL import Image"
   ]
  },
  {
   "cell_type": "code",
   "execution_count": 2,
   "metadata": {},
   "outputs": [],
   "source": [
    "train_path = 'train_images/'\n",
    "test_path = 'test_images/'\n",
    "train_df = np.empty((30000, 28, 28), dtype=np.uint8)\n",
    "test_df = np.empty((12000, 28, 28), dtype=np.uint8)\n",
    "indx = 0\n",
    "#Train images\n",
    "while indx < 30000:\n",
    "    image = Image.open(f\"{train_path}{indx}.jpg\")\n",
    "    train_df[indx] = np.asarray(image)\n",
    "    indx += 1\n",
    "#Test images\n",
    "while indx < 42000:\n",
    "    image = Image.open(f\"{test_path}{indx}.jpg\")\n",
    "    test_df[indx-30000] = np.asarray(image)\n",
    "    indx += 1\n",
    "#Labels\n",
    "df = pd.read_csv('mnist_csv/train.csv')\n",
    "label_matrix = np.eye(10, dtype=np.float32)\n",
    "train_labels = np.array(list(map(lambda x: label_matrix[x], df.iloc[:30000, 0].to_numpy())))\n",
    "test_labels = np.array(list(map(lambda x: label_matrix[x], df.iloc[30000:, 0].to_numpy())))\n",
    "df = pd.DataFrame()"
   ]
  },
  {
   "cell_type": "code",
   "execution_count": 3,
   "metadata": {},
   "outputs": [
    {
     "name": "stdout",
     "output_type": "stream",
     "text": [
      "(30000, 10)\n"
     ]
    },
    {
     "data": {
      "text/plain": [
       "(12000, 10)"
      ]
     },
     "execution_count": 3,
     "metadata": {},
     "output_type": "execute_result"
    }
   ],
   "source": [
    "print(train_labels.shape)\n",
    "test_labels.shape"
   ]
  },
  {
   "cell_type": "code",
   "execution_count": 4,
   "metadata": {},
   "outputs": [],
   "source": [
    "#Data augmentation\n",
    "import albumentations as A\n",
    "import cv2\n",
    "\n",
    "transform = A.Compose([\n",
    "    A.HorizontalFlip(p=1),\n",
    "    A.VerticalFlip(p=0.25),\n",
    "    A.ShiftScaleRotate(p=0.4, shift_limit=(-0.2, 0.2), scale_limit=(0, 0), rotate_limit=(0, 0), interpolation=cv2.INTER_NEAREST),\n",
    "    # A.ShiftScaleRotate(p=1, shift_limit=(0, 0), scale_limit=(-0.2, 0.2), rotate_limit=(0, 0), interpolation=cv2.INTER_NEAREST),\n",
    "    A.ShiftScaleRotate(p=0.25, shift_limit=(0, 0), scale_limit=(0, 0), rotate_limit=(-20, 20), interpolation=cv2.INTER_NEAREST)\n",
    "])\n",
    "\n",
    "transformed = np.copy(train_df)\n",
    "for i in range(len(transformed)):\n",
    "    transformed[i] = np.array(transform(image=transformed[i])['image'])"
   ]
  },
  {
   "cell_type": "code",
   "execution_count": 5,
   "metadata": {},
   "outputs": [
    {
     "data": {
      "text/plain": [
       "(30000, 28, 28)"
      ]
     },
     "execution_count": 5,
     "metadata": {},
     "output_type": "execute_result"
    }
   ],
   "source": [
    "transformed.shape"
   ]
  },
  {
   "cell_type": "code",
   "execution_count": 6,
   "metadata": {},
   "outputs": [
    {
     "data": {
      "image/png": "[encoded data removed]",
      "text/plain": [
       "<Figure size 640x480 with 1 Axes>"
      ]
     },
     "metadata": {},
     "output_type": "display_data"
    }
   ],
   "source": [
    "plt.imshow(transformed[0], cmap='gray')\n",
    "# plt.imshow(train_df[0], cmap='gray')\n",
    "plt.axis('off')  # Убираем оси координат\n",
    "plt.show()"
   ]
  },
  {
   "cell_type": "code",
   "execution_count": 7,
   "metadata": {},
   "outputs": [],
   "source": [
    "transformed_min_max = (transformed - transformed.min()) / (transformed.max() - transformed.min())\n",
    "train_df_min_max = (train_df - train_df.min()) / (train_df.max() - train_df.min())\n",
    "test_df_min_max = (test_df - train_df.min()) / (train_df.max() - train_df.min())"
   ]
  },
  {
   "cell_type": "code",
   "execution_count": 8,
   "metadata": {},
   "outputs": [
    {
     "name": "stdout",
     "output_type": "stream",
     "text": [
      "(30000, 28, 28)\n",
      "(30000, 28, 28)\n",
      "(12000, 28, 28)\n"
     ]
    }
   ],
   "source": [
    "print(transformed_min_max.shape)\n",
    "print(train_df_min_max.shape)\n",
    "print(test_df_min_max.shape)"
   ]
  },
  {
   "cell_type": "code",
   "execution_count": 24,
   "metadata": {},
   "outputs": [],
   "source": [
    "class Simple_cnn(nn.Module):\n",
    "    def __init__(self, training=True):\n",
    "        super(Simple_cnn, self).__init__()\n",
    "        self._training = training\n",
    "        self.cnn_1 = nn.Sequential(\n",
    "            nn.Conv2d(in_channels=1, out_channels=32, kernel_size=5, stride=1),\n",
    "            nn.BatchNorm2d(32),\n",
    "            nn.ReLU(inplace=True),\n",
    "            nn.MaxPool2d(kernel_size=2, stride=2)\n",
    "        )\n",
    "        self.cnn_2 = nn.Sequential(\n",
    "            nn.Conv2d(32, 64, kernel_size=4, stride=1),\n",
    "            nn.BatchNorm2d(64),\n",
    "            nn.ReLU(inplace=True),\n",
    "            nn.MaxPool2d(kernel_size=2, stride=2, padding=1)\n",
    "        )\n",
    "        self.classifier = nn.Sequential(\n",
    "            nn.Linear(5*5*64, 256),\n",
    "            nn.BatchNorm1d(256),\n",
    "            nn.ReLU(inplace=True),\n",
    "            nn.Dropout(0.5),\n",
    "            nn.Linear(256, 128),\n",
    "            nn.BatchNorm1d(128),\n",
    "            nn.ReLU(inplace=True),\n",
    "            nn.Linear(128, 10),\n",
    "            nn.Softmax()\n",
    "        )\n",
    "        \n",
    "    def turn_training(self):\n",
    "        self._training = not self._training\n",
    "        print(f'Changed to: {self._training}!')\n",
    "        \n",
    "    def forward(self, x):\n",
    "        if self._training is True:\n",
    "            x = self.cnn_1(x)\n",
    "            x = self.cnn_2(x)\n",
    "            x = torch.flatten(x, 1)\n",
    "            x = self.classifier(x)\n",
    "            return x\n",
    "        #Get maps\n",
    "        else:\n",
    "            x_1 = self.cnn_1(x)\n",
    "            x_2 = self.cnn_2(x_1)\n",
    "            return (x_1, x_2)"
   ]
  },
  {
   "cell_type": "code",
   "execution_count": 10,
   "metadata": {},
   "outputs": [
    {
     "data": {
      "text/plain": [
       "'cuda'"
      ]
     },
     "execution_count": 10,
     "metadata": {},
     "output_type": "execute_result"
    }
   ],
   "source": [
    "device = torch.device('cuda')\n",
    "device.type"
   ]
  },
  {
   "cell_type": "code",
   "execution_count": 11,
   "metadata": {},
   "outputs": [],
   "source": [
    "#Make dataset\n",
    "class Step_dataset(Dataset):\n",
    "    def __init__(self, data, labels):\n",
    "        self.input = torch.tensor(data, dtype=torch.float32)\n",
    "        self.labels = torch.tensor(labels, dtype=torch.float32)\n",
    "        print(f'Input size: {len(self.input)}') \n",
    "        print(f'Labels size: {len(self.labels)}') \n",
    "    def __len__(self):\n",
    "        return len(self.input)\n",
    "    def __getitem__(self, indx):\n",
    "        return self.input[indx], self.labels[indx]"
   ]
  },
  {
   "cell_type": "code",
   "execution_count": 12,
   "metadata": {},
   "outputs": [
    {
     "name": "stdout",
     "output_type": "stream",
     "text": [
      "Input size: 60000\n",
      "Labels size: 60000\n",
      "Input size: 12000\n",
      "Labels size: 12000\n"
     ]
    }
   ],
   "source": [
    "train_dataset = Step_dataset(np.vstack([train_df_min_max, transformed_min_max]), np.vstack([train_labels, train_labels]))\n",
    "test_dataset = Step_dataset(test_df_min_max, test_labels)"
   ]
  },
  {
   "cell_type": "code",
   "execution_count": 13,
   "metadata": {},
   "outputs": [
    {
     "data": {
      "text/plain": [
       "tensor([True, True, True, True, True, True, True, True, True, True])"
      ]
     },
     "execution_count": 13,
     "metadata": {},
     "output_type": "execute_result"
    }
   ],
   "source": [
    "train_dataset[30002][1] == train_dataset[2][1]"
   ]
  },
  {
   "cell_type": "code",
   "execution_count": 14,
   "metadata": {},
   "outputs": [],
   "source": [
    "train_loader = DataLoader(train_dataset, batch_size=1024, shuffle=True)\n",
    "test_loader = DataLoader(test_dataset, batch_size=1024, shuffle=True)#, pin_memory=True, num_workers=4"
   ]
  },
  {
   "cell_type": "code",
   "execution_count": 15,
   "metadata": {},
   "outputs": [],
   "source": [
    "class Accuracy():\n",
    "    def __call__(self, y_pred, y):\n",
    "        non_zero = (y - y_pred).count_nonzero().item()\n",
    "        size = len(y)\n",
    "        return (size - non_zero) / size\n",
    "\n",
    "class Early_stop():\n",
    "    def __init__(self, stop_after):\n",
    "        self._stop_after = stop_after\n",
    "        self._counter = 0\n",
    "        self._old_accuracy = None\n",
    "    def __call__(self, new_accuracy, model, path_model):\n",
    "        if self._old_accuracy is None:\n",
    "            self._old_accuracy = new_accuracy\n",
    "            torch.save(model.state_dict(), path_model)\n",
    "            return False\n",
    "        if new_accuracy > self._old_accuracy:\n",
    "            self._old_accuracy = new_accuracy\n",
    "            self._counter = 0\n",
    "            torch.save(model.state_dict(), path_model)\n",
    "            return False\n",
    "        else:\n",
    "            self._counter += 1\n",
    "            if self._counter > self._stop_after:\n",
    "                return True\n",
    "            else:\n",
    "                return False"
   ]
  },
  {
   "cell_type": "code",
   "execution_count": 16,
   "metadata": {},
   "outputs": [],
   "source": [
    "def validate(model, criterion, validate_dataset, device = torch.device('cuda')):\n",
    "    model = model.eval()\n",
    "    model.to(device)\n",
    "    \n",
    "    predictions = []\n",
    "    y_true = []\n",
    "    with torch.no_grad():\n",
    "        for data, label in validate_dataset:\n",
    "            data = data.unsqueeze(1).to(device)\n",
    "            label = label.to(device)\n",
    "            y_pred = model(data).to(device)\n",
    "            predictions.append(torch.max(y_pred, dim=1)[1])\n",
    "            y_true.append(torch.max(label, dim=1)[1])\n",
    "        predictions = torch.cat(predictions)\n",
    "        y_true = torch.cat(y_true)\n",
    "        return criterion(predictions, y_true)"
   ]
  },
  {
   "cell_type": "code",
   "execution_count": 17,
   "metadata": {},
   "outputs": [
    {
     "name": "stdout",
     "output_type": "stream",
     "text": [
      "torch.Size([16, 1, 5, 5])\n",
      "torch.Size([16, 1, 5, 5])\n"
     ]
    },
    {
     "name": "stderr",
     "output_type": "stream",
     "text": [
      "c:\\Users\\Zuzu\\anaconda3\\envs\\ML_2\\Lib\\site-packages\\torch\\nn\\modules\\module.py:1532: UserWarning: Implicit dimension choice for softmax has been deprecated. Change the call to include dim=X as an argument.\n",
      "  return self._call_impl(*args, **kwargs)\n"
     ]
    }
   ],
   "source": [
    "test_model = Simple_cnn()\n",
    "test_criterion = nn.CrossEntropyLoss().cuda()\n",
    "for data, label in train_loader:\n",
    "    data = data.unsqueeze(1)\n",
    "    y_pred = test_model(data)\n",
    "    loss = test_criterion(y_pred, label) #Вычисление ошибки\n",
    "    loss.backward()\n",
    "    break\n",
    "for param in test_model.parameters():\n",
    "    print(param.grad.shape)\n",
    "    print(param.shape)\n",
    "    break"
   ]
  },
  {
   "cell_type": "code",
   "execution_count": 25,
   "metadata": {},
   "outputs": [
    {
     "name": "stderr",
     "output_type": "stream",
     "text": [
      "c:\\Users\\Zuzu\\anaconda3\\envs\\ML_2\\Lib\\site-packages\\torch\\nn\\modules\\conv.py:456: UserWarning: Plan failed with a cudnnException: CUDNN_BACKEND_EXECUTION_PLAN_DESCRIPTOR: cudnnFinalize Descriptor Failed cudnn_status: CUDNN_STATUS_NOT_SUPPORTED (Triggered internally at ..\\aten\\src\\ATen\\native\\cudnn\\Conv_v8.cpp:919.)\n",
      "  return F.conv2d(input, weight, bias, self.stride,\n"
     ]
    },
    {
     "name": "stdout",
     "output_type": "stream",
     "text": [
      "Epoch 0 loss: 1.9651975591303938, accuracy: 0.90825\n",
      "Epoch 1 loss: 1.6591351274716652, accuracy: 0.9570833333333333\n",
      "Epoch 2 loss: 1.5968960200325917, accuracy: 0.9633333333333334\n",
      "Epoch 3 loss: 1.5681924395642037, accuracy: 0.9653333333333334\n",
      "Epoch 4 loss: 1.550233990459119, accuracy: 0.9690833333333333\n",
      "Epoch 5 loss: 1.5367146791037867, accuracy: 0.9675833333333334\n",
      "Epoch 6 loss: 1.528817817316217, accuracy: 0.97175\n",
      "Epoch 7 loss: 1.5214952169838598, accuracy: 0.9726666666666667\n",
      "Epoch 8 loss: 1.5141920982781103, accuracy: 0.9738333333333333\n",
      "Epoch 9 loss: 1.5094549797349057, accuracy: 0.9750833333333333\n",
      "Epoch 10 loss: 1.502768286203934, accuracy: 0.97575\n",
      "Epoch 11 loss: 1.4976678884635537, accuracy: 0.9775\n",
      "Epoch 12 loss: 1.4938835713822962, accuracy: 0.9803333333333333\n",
      "Epoch 13 loss: 1.4893717361708818, accuracy: 0.9796666666666667\n",
      "Epoch 14 loss: 1.4859348737587363, accuracy: 0.9784166666666667\n",
      "Epoch 15 loss: 1.4850005557981587, accuracy: 0.98225\n",
      "Epoch 16 loss: 1.4825255143440377, accuracy: 0.9796666666666667\n",
      "Epoch 17 loss: 1.4804074784456673, accuracy: 0.9810833333333333\n",
      "Epoch 18 loss: 1.4802143351506378, accuracy: 0.9825\n",
      "Epoch 19 loss: 1.477667753979311, accuracy: 0.9793333333333333\n",
      "Epoch 20 loss: 1.477318282854759, accuracy: 0.98125\n",
      "Epoch 21 loss: 1.4770342131792489, accuracy: 0.9828333333333333\n",
      "Epoch 22 loss: 1.4752709865570068, accuracy: 0.9800833333333333\n",
      "Epoch 23 loss: 1.4753667075755232, accuracy: 0.9798333333333333\n",
      "Epoch 24 loss: 1.4752201427847653, accuracy: 0.9810833333333333\n",
      "Epoch 25 loss: 1.4741179518780465, accuracy: 0.9825\n",
      "Epoch 26 loss: 1.4736422542798318, accuracy: 0.9819166666666667\n",
      "Epoch 27 loss: 1.4741164203417503, accuracy: 0.9816666666666667\n",
      "Epoch 28 loss: 1.4738637269553492, accuracy: 0.9801666666666666\n",
      "Epoch 29 loss: 1.473045722912934, accuracy: 0.98125\n",
      "Epoch 30 loss: 1.4724589343798362, accuracy: 0.9825833333333334\n",
      "Epoch 31 loss: 1.4714743868779327, accuracy: 0.9828333333333333\n",
      "Epoch 32 loss: 1.4713503647658785, accuracy: 0.9815\n",
      "Epoch 33 loss: 1.4712252010733395, accuracy: 0.982\n",
      "Epoch 34 loss: 1.4719792604446411, accuracy: 0.98225\n",
      "Epoch 35 loss: 1.4727594832242545, accuracy: 0.9808333333333333\n",
      "Epoch 36 loss: 1.4732664459842746, accuracy: 0.9804166666666667\n",
      "Epoch 37 loss: 1.471842086921304, accuracy: 0.9833333333333333\n",
      "Epoch 38 loss: 1.471191737611415, accuracy: 0.9830833333333333\n",
      "Epoch 39 loss: 1.4704130504090906, accuracy: 0.9818333333333333\n",
      "Epoch 40 loss: 1.4708607136192968, accuracy: 0.98075\n",
      "Epoch 41 loss: 1.470292432833526, accuracy: 0.9848333333333333\n",
      "Epoch 42 loss: 1.4691460597313057, accuracy: 0.9830833333333333\n",
      "Epoch 43 loss: 1.4703545630988428, accuracy: 0.9838333333333333\n",
      "Epoch 44 loss: 1.4700622255519284, accuracy: 0.9834166666666667\n",
      "Epoch 45 loss: 1.4695562952655856, accuracy: 0.9818333333333333\n",
      "Epoch 46 loss: 1.469365101749614, accuracy: 0.98325\n",
      "Epoch 47 loss: 1.4695895566778667, accuracy: 0.9825\n",
      "Epoch 48 loss: 1.4701270814669334, accuracy: 0.98175\n",
      "Epoch 49 loss: 1.4697028216669115, accuracy: 0.9824166666666667\n",
      "Epoch 50 loss: 1.4690298064280365, accuracy: 0.9825\n",
      "Epoch 51 loss: 1.4688500812498189, accuracy: 0.9798333333333333\n",
      "Epoch 52 loss: 1.4701881974430409, accuracy: 0.98375\n",
      "Epoch 53 loss: 1.4688798956951852, accuracy: 0.98375\n",
      "Epoch 54 loss: 1.468793184070264, accuracy: 0.98325\n",
      "Epoch 55 loss: 1.4689099424976413, accuracy: 0.98175\n",
      "Epoch 56 loss: 1.4686063851340343, accuracy: 0.9775833333333334\n",
      "Epoch 57 loss: 1.468808408510887, accuracy: 0.9818333333333333\n",
      "Epoch 58 loss: 1.4697521601693104, accuracy: 0.9813333333333333\n",
      "Epoch 59 loss: 1.4689500008599232, accuracy: 0.9839166666666667\n",
      "Epoch 60 loss: 1.467788409378569, accuracy: 0.9869166666666667\n",
      "Epoch 61 loss: 1.4675316648968195, accuracy: 0.9845833333333334\n",
      "Epoch 62 loss: 1.467349676762597, accuracy: 0.9850833333333333\n",
      "Epoch 63 loss: 1.4681614354505377, accuracy: 0.9825833333333334\n",
      "Epoch 64 loss: 1.4675840280823789, accuracy: 0.9845833333333334\n",
      "Epoch 65 loss: 1.4687999062618966, accuracy: 0.984\n",
      "Epoch 66 loss: 1.4682123095302257, accuracy: 0.9828333333333333\n",
      "Epoch 67 loss: 1.4687482522705855, accuracy: 0.982\n",
      "Epoch 68 loss: 1.4677650847677457, accuracy: 0.9846666666666667\n",
      "Epoch 69 loss: 1.4674468020261344, accuracy: 0.9853333333333333\n",
      "Epoch 70 loss: 1.4673618502536063, accuracy: 0.9803333333333333\n",
      "Epoch 71 loss: 1.468201667575513, accuracy: 0.9835833333333334\n",
      "Epoch 72 loss: 1.4679733151096408, accuracy: 0.983\n",
      "Epoch 73 loss: 1.4676194817332897, accuracy: 0.9820833333333333\n",
      "Epoch 74 loss: 1.4664081557322357, accuracy: 0.9861666666666666\n",
      "Epoch 75 loss: 1.4660812737578053, accuracy: 0.98425\n",
      "Epoch 76 loss: 1.4660017551001856, accuracy: 0.9853333333333333\n",
      "Epoch 77 loss: 1.4659515700097812, accuracy: 0.9855\n",
      "Epoch 78 loss: 1.4659357798301567, accuracy: 0.9855833333333334\n",
      "Epoch 79 loss: 1.4659311165243893, accuracy: 0.98575\n",
      "Epoch 80 loss: 1.465956691968239, accuracy: 0.98575\n",
      "Epoch 81 loss: 1.465978877019074, accuracy: 0.986\n",
      "Epoch 82 loss: 1.4659056946382685, accuracy: 0.9856666666666667\n",
      "Epoch 83 loss: 1.4659492423978902, accuracy: 0.9859166666666667\n",
      "Epoch 84 loss: 1.4658754417451763, accuracy: 0.98575\n",
      "Epoch 85 loss: 1.4658711946616738, accuracy: 0.9855833333333334\n",
      "Early stopped on 86 epoch!\n"
     ]
    }
   ],
   "source": [
    "from torch.optim.lr_scheduler import ReduceLROnPlateau\n",
    "\n",
    "device = torch.device('cuda')\n",
    "scnn = Simple_cnn().to(device)\n",
    "criterion = nn.CrossEntropyLoss().cuda()\n",
    "optimizer = optim.Adam(scnn.parameters(), lr=0.0004)\n",
    "lr_scheduler = ReduceLROnPlateau(optimizer, mode='min', factor=0.5, patience=10, verbose=True)\n",
    "accuracy = Accuracy()\n",
    "stoper = Early_stop(25)\n",
    "\n",
    "history = []\n",
    "acc_history = []\n",
    "for epoch in range(200):\n",
    "    epoch_loss = 0.0\n",
    "    for data, label in train_loader:\n",
    "        data = data.unsqueeze(1).to(device)\n",
    "        label = label.to(device)\n",
    "        optimizer.zero_grad()               #Очистка градиента\n",
    "        pred_label = scnn.forward(data)     #Прямой проход\n",
    "        loss = criterion(pred_label, label) #Вычисление ошибки\n",
    "        loss.backward()                     #Вычисление градиента по параметрам модели\n",
    "        optimizer.step()                    #Изменение весов модели\n",
    "        epoch_loss += loss.item()\n",
    "    acc = validate(scnn, accuracy, test_loader)\n",
    "    if stoper(acc, scnn, 'best_model_1') is True:\n",
    "        print(f'Early stopped on {epoch} epoch!')\n",
    "        break\n",
    "    history.append(epoch_loss / len(train_loader))\n",
    "    acc_history.append(acc)\n",
    "    lr_scheduler.step(epoch_loss)\n",
    "    print(f'Epoch {epoch} loss: {epoch_loss / len(train_loader)}, accuracy: {acc}')"
   ]
  },
  {
   "cell_type": "code",
   "execution_count": null,
   "metadata": {},
   "outputs": [
    {
     "data": {
      "text/plain": [
       "[1.8459939623283128,\n",
       " 1.6387546577696073,\n",
       " 1.5850897875882812,\n",
       " 1.532276554632995,\n",
       " 1.4854614865981925,\n",
       " 1.4798553464776378,\n",
       " 1.4778387162644984,\n",
       " 1.4756129939677352,\n",
       " 1.4731525253441373,\n",
       " 1.4735083792169215,\n",
       " 1.4719866665743164,\n",
       " 1.4706907625925743,\n",
       " 1.4690306378623186,\n",
       " 1.468789984614162,\n",
       " 1.4686513452206629,\n",
       " 1.4689622976012149,\n",
       " 1.4671096195608884,\n",
       " 1.466068077895601,\n",
       " 1.466112289388301,\n",
       " 1.4658188537015753,\n",
       " 1.4667367268416842,\n",
       " 1.4654308224128465,\n",
       " 1.4652601662328688,\n",
       " 1.4645519943560583,\n",
       " 1.4644839187799874,\n",
       " 1.465758847988258,\n",
       " 1.4644559258121554,\n",
       " 1.4642635583877563,\n",
       " 1.4647405248577312,\n",
       " 1.4644136550062794,\n",
       " 1.4641266677339198,\n",
       " 1.4646542880494715,\n",
       " 1.4638973898806815,\n",
       " 1.4634982488923154,\n",
       " 1.4636316521693085,\n",
       " 1.464137338985831,\n",
       " 1.4638482524176775,\n",
       " 1.4645447660300692,\n",
       " 1.46475234173112,\n",
       " 1.4637656898821814,\n",
       " 1.4632141478991105,\n",
       " 1.4630204277523493,\n",
       " 1.4634065062312756,\n",
       " 1.4630575705382785,\n",
       " 1.462944918769901,\n",
       " 1.4629929490008597,\n",
       " 1.46283707275229,\n",
       " 1.4634181937928927,\n",
       " 1.4639220459986542,\n",
       " 1.4636982396497564,\n",
       " 1.4638597641961049,\n",
       " 1.464574190519624,\n",
       " 1.4636506832252114,\n",
       " 1.4630781169665061,\n",
       " 1.463377259545407,\n",
       " 1.463223108800791,\n",
       " 1.4634201668076596,\n",
       " 1.463621232469203,\n",
       " 1.4631466966564373,\n",
       " 1.4624744441549657,\n",
       " 1.462367674051705,\n",
       " 1.4625758397377144,\n",
       " 1.4623489299062955,\n",
       " 1.4623414560899897,\n",
       " 1.4623412772760553,\n",
       " 1.4623411651385032,\n",
       " 1.462341051990703,\n",
       " 1.4623408388283292,\n",
       " 1.462483702069622,\n",
       " 1.4623400326502525,\n",
       " 1.4623388971312572,\n",
       " 1.462338042461266,\n",
       " 1.46230958174851,\n",
       " 1.4623080855709012,\n",
       " 1.4623070197590327,\n",
       " 1.4623065328193923,\n",
       " 1.462306139832836,\n",
       " 1.4623064439175493,\n",
       " 1.4623059398036893,\n",
       " 1.4624498890618147,\n",
       " 1.462305756948762,\n",
       " 1.4623064479585421,\n",
       " 1.462305541765892,\n",
       " 1.4623059458651786,\n",
       " 1.4623050123958263,\n",
       " 1.462298819574259,\n",
       " 1.4622426194659734,\n",
       " 1.4622410576222307,\n",
       " 1.4622409858946073,\n",
       " 1.4622404838012437,\n",
       " 1.4622400625277374,\n",
       " 1.462239990800114,\n",
       " 1.4622400453535176,\n",
       " 1.4623834127086703]"
      ]
     },
     "execution_count": 15,
     "metadata": {},
     "output_type": "execute_result"
    }
   ],
   "source": [
    "history"
   ]
  },
  {
   "cell_type": "code",
   "execution_count": 26,
   "metadata": {},
   "outputs": [
    {
     "name": "stdout",
     "output_type": "stream",
     "text": [
      "0.9869166666666667\n"
     ]
    }
   ],
   "source": [
    "model = Simple_cnn()\n",
    "model = model.eval()\n",
    "model.load_state_dict(torch.load('best_model_1'))\n",
    "acc = validate(model, accuracy, test_loader)\n",
    "print(acc)\n",
    "#0.9913333333333333 - base scnn model with Adam and scheduler\n",
    "#0.9914166666666666 - dropout = 0.5 with Adam and scheduler\n",
    "#0.992 - +batch normalization with increase lr x2 (but i need x2 epochs for convergence)\n",
    "#0.98875 - augm\n",
    "#0.9869166666666667 - thin + augm"
   ]
  },
  {
   "cell_type": "code",
   "execution_count": 157,
   "metadata": {},
   "outputs": [
    {
     "data": {
      "text/plain": [
       "torch.Size([1, 1, 28, 28])"
      ]
     },
     "execution_count": 157,
     "metadata": {},
     "output_type": "execute_result"
    }
   ],
   "source": [
    "test_dataset[0][0].unsqueeze(0).unsqueeze(0).shape"
   ]
  },
  {
   "cell_type": "code",
   "execution_count": 218,
   "metadata": {},
   "outputs": [
    {
     "name": "stdout",
     "output_type": "stream",
     "text": [
      "Changed to: False!\n",
      "(tensor([[[[0.1210, 0.1202, 0.4405,  ..., 0.1860, 0.0512, 0.1127],\n",
      "          [0.3894, 1.1741, 1.0142,  ..., 0.1313, 0.0706, 0.1043],\n",
      "          [0.3480, 2.0683, 1.5558,  ..., 0.0000, 0.0808, 0.1028],\n",
      "          ...,\n",
      "          [0.1630, 1.7203, 2.3967,  ..., 0.6720, 0.0000, 0.0723],\n",
      "          [0.2216, 0.4655, 1.0920,  ..., 0.0000, 0.0000, 0.1164],\n",
      "          [0.1396, 0.2284, 0.4142,  ..., 0.0000, 0.0841, 0.0904]],\n",
      "\n",
      "         [[0.3576, 0.2809, 0.5439,  ..., 0.5236, 0.3861, 0.3485],\n",
      "          [0.4738, 0.4937, 0.3501,  ..., 0.5722, 0.3890, 0.3827],\n",
      "          [0.8933, 0.5632, 0.6964,  ..., 0.4901, 0.3429, 0.3429],\n",
      "          ...,\n",
      "          [0.4587, 2.0293, 1.6894,  ..., 0.9554, 0.0000, 0.3629],\n",
      "          [0.3919, 1.5235, 2.9338,  ..., 0.1493, 0.0000, 0.6440],\n",
      "          [0.3759, 0.3453, 0.7998,  ..., 0.5793, 0.7247, 0.3326]],\n",
      "\n",
      "         [[0.5008, 0.5631, 0.7911,  ..., 0.3508, 0.4552, 0.5282],\n",
      "          [0.7077, 1.4110, 2.0914,  ..., 0.4611, 0.4885, 0.5549],\n",
      "          [0.9474, 1.6086, 2.0135,  ..., 0.4905, 0.5590, 0.5348],\n",
      "          ...,\n",
      "          [0.5385, 0.7582, 0.0000,  ..., 0.0000, 0.0282, 0.8287],\n",
      "          [0.5747, 0.0000, 0.0000,  ..., 0.0000, 0.6312, 0.6978],\n",
      "          [0.5215, 0.5384, 0.5726,  ..., 0.5192, 0.5559, 0.5452]],\n",
      "\n",
      "         ...,\n",
      "\n",
      "         [[0.5861, 0.5742, 0.5995,  ..., 0.7211, 0.6913, 0.6134],\n",
      "          [0.6486, 0.4288, 0.0000,  ..., 1.3185, 0.7344, 0.5923],\n",
      "          [0.4966, 0.0751, 0.0813,  ..., 0.7068, 0.6789, 0.6002],\n",
      "          ...,\n",
      "          [0.6187, 0.0000, 1.1809,  ..., 3.3949, 0.8591, 0.6016],\n",
      "          [0.6690, 0.0000, 0.7215,  ..., 0.9068, 0.0000, 0.5835],\n",
      "          [0.6171, 0.5620, 0.5675,  ..., 0.0000, 0.5678, 0.6019]],\n",
      "\n",
      "         [[0.0000, 0.0000, 0.0000,  ..., 0.0000, 0.0000, 0.0000],\n",
      "          [0.0000, 0.0000, 0.0000,  ..., 1.2661, 0.0000, 0.0000],\n",
      "          [0.0000, 0.0000, 0.0000,  ..., 0.7834, 0.0000, 0.0000],\n",
      "          ...,\n",
      "          [0.0000, 0.0000, 1.0561,  ..., 1.6234, 2.2528, 0.0000],\n",
      "          [0.0000, 0.0000, 0.2454,  ..., 1.6600, 0.4957, 0.0000],\n",
      "          [0.0000, 0.0000, 0.0000,  ..., 0.3398, 0.2091, 0.0000]],\n",
      "\n",
      "         [[0.0000, 0.0000, 0.0000,  ..., 0.0000, 0.0000, 0.0000],\n",
      "          [0.0000, 0.0000, 0.0000,  ..., 0.0000, 0.0000, 0.0000],\n",
      "          [0.0000, 0.4345, 0.6781,  ..., 0.0000, 0.0000, 0.0000],\n",
      "          ...,\n",
      "          [0.0000, 0.2281, 1.6401,  ..., 1.1944, 1.0042, 0.0000],\n",
      "          [0.0000, 0.0000, 1.5917,  ..., 0.9424, 0.3479, 0.0000],\n",
      "          [0.0000, 0.0000, 0.0000,  ..., 0.7240, 0.0000, 0.0000]]]],\n",
      "       device='cuda:0'), tensor([[[[0.0000, 0.0000, 0.0000, 0.0000, 0.0000],\n",
      "          [0.0000, 0.0000, 2.2593, 1.6975, 0.0000],\n",
      "          [0.0000, 0.0000, 0.0000, 0.0777, 0.2269],\n",
      "          [0.0000, 0.0000, 0.0747, 0.2405, 1.5414],\n",
      "          [0.0000, 0.0000, 0.0000, 0.6703, 0.7367]],\n",
      "\n",
      "         [[0.1923, 0.0000, 0.0000, 0.0000, 0.0000],\n",
      "          [0.7481, 0.0000, 1.7482, 0.9568, 0.6236],\n",
      "          [0.9683, 2.4171, 3.5631, 2.4554, 0.0000],\n",
      "          [0.0000, 0.0000, 2.1678, 3.0418, 2.7995],\n",
      "          [1.7208, 2.9296, 0.0000, 0.0000, 0.0000]],\n",
      "\n",
      "         [[0.0000, 0.0000, 1.0895, 0.0000, 0.0000],\n",
      "          [1.2158, 5.7349, 5.1542, 0.0000, 0.0000],\n",
      "          [1.2209, 2.2287, 3.6383, 1.2053, 0.0000],\n",
      "          [0.0000, 0.0000, 1.5806, 4.2152, 0.0000],\n",
      "          [0.0000, 0.0000, 0.0000, 0.0000, 0.0000]],\n",
      "\n",
      "         ...,\n",
      "\n",
      "         [[0.0000, 0.0000, 0.0000, 0.0000, 0.0000],\n",
      "          [0.0000, 0.2866, 1.0271, 1.6675, 0.8484],\n",
      "          [0.0000, 0.0000, 0.0000, 3.3973, 1.0789],\n",
      "          [0.0000, 0.0000, 1.1109, 1.1092, 0.0000],\n",
      "          [0.0000, 0.2514, 0.0000, 1.1220, 0.8636]],\n",
      "\n",
      "         [[0.0000, 0.0000, 0.0000, 0.9589, 0.0000],\n",
      "          [0.0000, 0.8239, 0.4904, 0.6685, 0.0586],\n",
      "          [0.0000, 0.0000, 0.0000, 3.3366, 0.9138],\n",
      "          [2.2024, 0.0000, 0.0000, 0.0000, 0.9343],\n",
      "          [0.0000, 0.0000, 0.0000, 0.0000, 0.0000]],\n",
      "\n",
      "         [[0.0000, 0.0000, 0.0000, 0.0000, 0.0000],\n",
      "          [0.0000, 0.0000, 0.0000, 0.0000, 0.7001],\n",
      "          [0.0000, 0.0000, 0.0000, 0.0000, 0.0000],\n",
      "          [0.0000, 0.0000, 0.0000, 0.0000, 0.0000],\n",
      "          [0.0000, 0.0000, 1.1361, 0.4352, 0.0000]]]], device='cuda:0'))\n"
     ]
    }
   ],
   "source": [
    "with torch.no_grad():\n",
    "    model.turn_training()\n",
    "    predict = model(test_dataset[0][0].unsqueeze(0).unsqueeze(0).to(device))\n",
    "    print(predict)\n",
    "    layer_1_map = np.array(predict[0].to('cpu'))\n",
    "    layer_2_map = np.array(predict[1].to('cpu'))"
   ]
  },
  {
   "cell_type": "code",
   "execution_count": 219,
   "metadata": {},
   "outputs": [
    {
     "data": {
      "image/png": "[encoded data removed]",
      "text/plain": [
       "<Figure size 1200x1200 with 64 Axes>"
      ]
     },
     "metadata": {},
     "output_type": "display_data"
    }
   ],
   "source": [
    "# Строим изображение из массива массивов\n",
    "layer_1_map_buff = np.squeeze(layer_1_map)\n",
    "\n",
    "fig, axes = plt.subplots(8, 8, figsize=(12, 12))\n",
    "\n",
    "for i, ax in enumerate(axes.flat):\n",
    "    ax.imshow(layer_1_map_buff[i], cmap='gray')  # Отображаем каждое изображение в ячейке сетки\n",
    "    ax.axis('off')  # Отключаем оси\n",
    "plt.show()"
   ]
  },
  {
   "cell_type": "code",
   "execution_count": 220,
   "metadata": {},
   "outputs": [
    {
     "data": {
      "image/png": "[encoded data removed]",
      "text/plain": [
       "<Figure size 1200x1200 with 128 Axes>"
      ]
     },
     "metadata": {},
     "output_type": "display_data"
    }
   ],
   "source": [
    "# Строим изображение из массива массивов\n",
    "layer_2_map_buff = np.squeeze(layer_2_map)\n",
    "\n",
    "fig, axes = plt.subplots(16, 8, figsize=(12, 12))\n",
    "\n",
    "for i, ax in enumerate(axes.flat):\n",
    "    ax.imshow(layer_2_map_buff[i], cmap='gray')  # Отображаем каждое изображение в ячейке сетки\n",
    "    ax.axis('off')  # Отключаем оси\n",
    "plt.show()"
   ]
  }
 ],
 "metadata": {
  "kernelspec": {
   "display_name": "Machine_learning",
   "language": "python",
   "name": "python3"
  },
  "language_info": {
   "codemirror_mode": {
    "name": "ipython",
    "version": 3
   },
   "file_extension": ".py",
   "mimetype": "text/x-python",
   "name": "python",
   "nbconvert_exporter": "python",
   "pygments_lexer": "ipython3",
   "version": "3.12.3"
  }
 },
 "nbformat": 4,
 "nbformat_minor": 2
}
