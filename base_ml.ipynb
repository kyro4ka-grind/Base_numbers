{
 "cells": [
  {
   "cell_type": "code",
   "execution_count": 1,
   "metadata": {},
   "outputs": [],
   "source": [
    "import pandas as pd\n",
    "import numpy as np\n",
    "import plotly.graph_objects as go\n",
    "import matplotlib.pyplot as plt\n",
    "from PIL import Image"
   ]
  },
  {
   "cell_type": "code",
   "execution_count": 19,
   "metadata": {},
   "outputs": [],
   "source": [
    "df = pd.read_csv('mnist_csv/train.csv')\n",
    "train_df = df.iloc[:30000, 1:]\n",
    "test_df = df.iloc[30000:, 1:]\n",
    "train_labels = df.iloc[:30000, 0]\n",
    "test_labels = df.iloc[30000:, 0]\n",
    "df = pd.DataFrame()"
   ]
  },
  {
   "cell_type": "markdown",
   "metadata": {},
   "source": [
    "Sklearn"
   ]
  },
  {
   "cell_type": "code",
   "execution_count": 22,
   "metadata": {},
   "outputs": [],
   "source": [
    "from sklearn.preprocessing import StandardScaler, MinMaxScaler\n",
    "\n",
    "#Train\n",
    "pca = MinMaxScaler()\n",
    "train_df_min_max = pca.fit_transform(train_df)\n",
    "#Test\n",
    "test_df_min_max = pca.transform(test_df)"
   ]
  },
  {
   "cell_type": "code",
   "execution_count": 25,
   "metadata": {},
   "outputs": [
    {
     "name": "stdout",
     "output_type": "stream",
     "text": [
      "Точность решающего дерева: 0.8485833333333334\n"
     ]
    }
   ],
   "source": [
    "from sklearn.tree import DecisionTreeClassifier\n",
    "from sklearn.metrics import accuracy_score\n",
    "\n",
    "#Решающее дерево\n",
    "tree = DecisionTreeClassifier(random_state=42)\n",
    "tree.fit(train_df_min_max, train_labels)\n",
    "\n",
    "# Прогнозирование на тестовом наборе\n",
    "y_pred = tree.predict(test_df_min_max)\n",
    "\n",
    "# Оценка точности модели\n",
    "accuracy = accuracy_score(test_labels, y_pred)\n",
    "print(f'Точность решающего дерева: {accuracy}')"
   ]
  },
  {
   "cell_type": "code",
   "execution_count": 26,
   "metadata": {},
   "outputs": [
    {
     "name": "stdout",
     "output_type": "stream",
     "text": [
      "Точность случайного леса: 0.9658333333333333\n"
     ]
    }
   ],
   "source": [
    "from sklearn.ensemble import RandomForestClassifier\n",
    "\n",
    "random_forest = RandomForestClassifier(random_state=42)\n",
    "random_forest.fit(train_df_min_max, train_labels)\n",
    "\n",
    "y_pred = random_forest.predict(test_df_min_max)\n",
    "accuracy = accuracy_score(test_labels, y_pred)\n",
    "print(f'Точность случайного леса: {accuracy}')"
   ]
  },
  {
   "cell_type": "code",
   "execution_count": 27,
   "metadata": {},
   "outputs": [
    {
     "name": "stdout",
     "output_type": "stream",
     "text": [
      "      Iter       Train Loss   Remaining Time \n",
      "         1           1.9092            7.64m\n",
      "         2           1.6759            7.63m\n",
      "         3           1.5092            7.41m\n",
      "         4           1.3769            7.23m\n",
      "         5           1.2592            7.07m\n",
      "         6           1.1624            6.90m\n",
      "         7           1.0748            6.75m\n",
      "         8           1.0001            6.60m\n",
      "         9           0.9348            6.45m\n",
      "        10           0.8758            6.29m\n",
      "        20           0.5408            4.71m\n",
      "        30           0.3893            3.14m\n",
      "        40           0.3080            1.57m\n",
      "        50           0.2552            0.00s\n",
      "Точность градиентного бустинга: 0.92175\n"
     ]
    }
   ],
   "source": [
    "from sklearn.ensemble import GradientBoostingClassifier\n",
    "\n",
    "gradient_boosting = GradientBoostingClassifier(n_estimators=50, verbose=1, random_state=42)\n",
    "gradient_boosting.fit(train_df_min_max, train_labels)\n",
    "\n",
    "y_pred = gradient_boosting.predict(test_df_min_max)\n",
    "accuracy = accuracy_score(test_labels, y_pred)\n",
    "print(f'Точность градиентного бустинга: {accuracy}')"
   ]
  },
  {
   "cell_type": "code",
   "execution_count": 28,
   "metadata": {},
   "outputs": [
    {
     "name": "stdout",
     "output_type": "stream",
     "text": [
      "Точность беггинга: 0.9211666666666667\n"
     ]
    }
   ],
   "source": [
    "from sklearn.ensemble import BaggingClassifier\n",
    "\n",
    "bagging = BaggingClassifier()\n",
    "bagging.fit(train_df_min_max, train_labels)\n",
    "\n",
    "y_pred = bagging.predict(test_df_min_max)\n",
    "accuracy = accuracy_score(test_labels, y_pred)\n",
    "print(f'Точность беггинга: {accuracy}')"
   ]
  },
  {
   "cell_type": "code",
   "execution_count": 30,
   "metadata": {},
   "outputs": [
    {
     "name": "stdout",
     "output_type": "stream",
     "text": [
      "Точность логистической регрессии: 0.9205\n"
     ]
    },
    {
     "name": "stderr",
     "output_type": "stream",
     "text": [
      "c:\\Users\\Zuzu\\anaconda3\\envs\\Machine_learning\\Lib\\site-packages\\sklearn\\linear_model\\_sag.py:350: ConvergenceWarning: The max_iter was reached which means the coef_ did not converge\n",
      "  warnings.warn(\n"
     ]
    }
   ],
   "source": [
    "from sklearn.linear_model import LogisticRegression\n",
    "\n",
    "# Создание линейного классификатора с L2 регуляризацией\n",
    "# Параметр C - обратная сила регуляризации, чем меньше, тем сильнее регуляризация\n",
    "logistic_classificator = LogisticRegression(penalty='l2', solver='saga', C=0.6)  \n",
    "logistic_classificator.fit(train_df_min_max, train_labels)\n",
    "\n",
    "y_pred = logistic_classificator.predict(test_df_min_max)\n",
    "accuracy = accuracy_score(test_labels, y_pred)\n",
    "print(f'Точность логистической регрессии: {accuracy}')"
   ]
  }
 ],
 "metadata": {
  "kernelspec": {
   "display_name": "Machine_learning",
   "language": "python",
   "name": "python3"
  },
  "language_info": {
   "codemirror_mode": {
    "name": "ipython",
    "version": 3
   },
   "file_extension": ".py",
   "mimetype": "text/x-python",
   "name": "python",
   "nbconvert_exporter": "python",
   "pygments_lexer": "ipython3",
   "version": "3.11.7"
  }
 },
 "nbformat": 4,
 "nbformat_minor": 2
}
